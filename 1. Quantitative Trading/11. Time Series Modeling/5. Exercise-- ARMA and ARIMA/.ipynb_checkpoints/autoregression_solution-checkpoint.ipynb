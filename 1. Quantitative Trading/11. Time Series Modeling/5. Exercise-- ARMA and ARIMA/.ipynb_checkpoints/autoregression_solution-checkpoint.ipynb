{
 "cells": [
  {
   "cell_type": "markdown",
   "metadata": {},
   "source": [
    "# Autoregressive moving average"
   ]
  },
  {
   "cell_type": "markdown",
   "metadata": {},
   "source": [
    "## Install packages"
   ]
  },
  {
   "cell_type": "code",
   "execution_count": null,
   "metadata": {
    "scrolled": true
   },
   "outputs": [
    {
     "name": "stdout",
     "output_type": "stream",
     "text": [
      "Collecting statsmodels==0.9.0\n",
      "  Downloading statsmodels-0.9.0-cp36-cp36m-macosx_10_6_intel.macosx_10_9_intel.macosx_10_9_x86_64.macosx_10_10_intel.macosx_10_10_x86_64.whl (9.6 MB)\n",
      "     |████████████████████████████████| 9.6 MB 226 kB/s            \n",
      "\u001b[?25hCollecting colour==0.1.5\n",
      "  Downloading colour-0.1.5-py2.py3-none-any.whl (23 kB)\n",
      "Collecting numpy==1.14.5\n",
      "  Downloading numpy-1.14.5-cp36-cp36m-macosx_10_6_intel.macosx_10_9_intel.macosx_10_9_x86_64.macosx_10_10_intel.macosx_10_10_x86_64.whl (4.7 MB)\n",
      "     |████████████████████████████████| 4.7 MB 21.5 MB/s            \n",
      "\u001b[?25hCollecting pandas==0.21.1\n",
      "  Downloading pandas-0.21.1-cp36-cp36m-macosx_10_6_intel.macosx_10_9_intel.macosx_10_9_x86_64.macosx_10_10_intel.macosx_10_10_x86_64.whl (14.9 MB)\n",
      "     |████████████████████████████████| 14.9 MB 156 kB/s            \n",
      "\u001b[?25hCollecting plotly==2.2.3\n",
      "  Downloading plotly-2.2.3.tar.gz (1.1 MB)\n",
      "     |████████████████████████████████| 1.1 MB 29.5 MB/s            \n",
      "\u001b[?25h  Preparing metadata (setup.py) ... \u001b[?25ldone\n",
      "\u001b[?25hCollecting scipy==1.0.0\n",
      "  Downloading scipy-1.0.0-cp36-cp36m-macosx_10_6_intel.macosx_10_9_intel.macosx_10_9_x86_64.macosx_10_10_intel.macosx_10_10_x86_64.whl (16.7 MB)\n",
      "     |████████████████████████████████| 16.7 MB 12 kB/s             \n",
      "\u001b[?25hCollecting scikit-learn==0.19.1\n",
      "  Downloading scikit_learn-0.19.1-cp36-cp36m-macosx_10_6_intel.macosx_10_9_intel.macosx_10_9_x86_64.macosx_10_10_intel.macosx_10_10_x86_64.whl (7.6 MB)\n",
      "     |████████████████████████████████| 7.6 MB 50 kB/s              \n",
      "\u001b[?25hCollecting six==1.11.0\n",
      "  Downloading six-1.11.0-py2.py3-none-any.whl (10 kB)\n",
      "Collecting seaborn===0.9.0\n",
      "  Downloading seaborn-0.9.0-py3-none-any.whl (208 kB)\n",
      "     |████████████████████████████████| 208 kB 32.8 MB/s            \n",
      "\u001b[?25hCollecting patsy\n",
      "  Downloading patsy-0.5.6-py2.py3-none-any.whl (233 kB)\n",
      "     |████████████████████████████████| 233 kB 17.1 MB/s            \n",
      "\u001b[?25hRequirement already satisfied: pytz>=2011k in /Users/huohsien/anaconda2/envs/AITF/lib/python3.6/site-packages (from pandas==0.21.1->-r requirements.txt (line 4)) (2024.1)\n",
      "Requirement already satisfied: python-dateutil>=2 in /Users/huohsien/anaconda2/envs/AITF/lib/python3.6/site-packages (from pandas==0.21.1->-r requirements.txt (line 4)) (2.9.0.post0)\n",
      "Requirement already satisfied: decorator>=4.0.6 in /Users/huohsien/anaconda2/envs/AITF/lib/python3.6/site-packages (from plotly==2.2.3->-r requirements.txt (line 5)) (5.1.1)\n",
      "Requirement already satisfied: nbformat>=4.2 in /Users/huohsien/anaconda2/envs/AITF/lib/python3.6/site-packages (from plotly==2.2.3->-r requirements.txt (line 5)) (5.1.3)\n",
      "Collecting requests\n",
      "  Downloading requests-2.27.1-py2.py3-none-any.whl (63 kB)\n",
      "     |████████████████████████████████| 63 kB 5.8 MB/s             \n",
      "\u001b[?25hCollecting matplotlib>=1.4.3\n",
      "  Downloading matplotlib-3.3.4-cp36-cp36m-macosx_10_9_x86_64.whl (8.5 MB)\n",
      "     |████████████████████████████████| 8.5 MB 34.0 MB/s            \n",
      "\u001b[?25hRequirement already satisfied: pyparsing!=2.0.4,!=2.1.2,!=2.1.6,>=2.0.3 in /Users/huohsien/anaconda2/envs/AITF/lib/python3.6/site-packages (from matplotlib>=1.4.3->seaborn===0.9.0->-r requirements.txt (line 9)) (3.0.7)\n",
      "  Downloading matplotlib-3.3.3-cp36-cp36m-macosx_10_9_x86_64.whl (8.5 MB)\n",
      "     |███████████████████████████▋    | 7.3 MB 38 kB/s eta 0:00:31  "
     ]
    }
   ],
   "source": [
    "import sys\n",
    "!{sys.executable} -m pip install -r requirements.txt"
   ]
  },
  {
   "cell_type": "code",
   "execution_count": null,
   "metadata": {},
   "outputs": [],
   "source": [
    "import pandas as pd\n",
    "import numpy as np\n",
    "import os\n",
    "from statsmodels.tsa.arima_model import ARMA\n",
    "import matplotlib.pyplot as plt\n",
    "import seaborn as sns\n",
    "import quiz_tests"
   ]
  },
  {
   "cell_type": "code",
   "execution_count": null,
   "metadata": {},
   "outputs": [],
   "source": [
    "sns.set()\n",
    "#note that for the figure size to show, this cell should be run\n",
    "#separately from the import of pyplot\n",
    "plt.style.use('ggplot')\n",
    "plt.rcParams['figure.figsize'] = (14, 8)"
   ]
  },
  {
   "cell_type": "markdown",
   "metadata": {},
   "source": [
    "## Simulate return series with autoregressive properties"
   ]
  },
  {
   "cell_type": "code",
   "execution_count": null,
   "metadata": {},
   "outputs": [],
   "source": [
    "from statsmodels.tsa.arima_process import ArmaProcess\n",
    "np.random.seed(200)\n",
    "\n",
    "ar_params = np.array([1, -0.5])\n",
    "ma_params = np.array([1, -0.3])\n",
    "ret = ArmaProcess(ar_params, ma_params).generate_sample(nsample=5*252)\n",
    "\n",
    "ret = pd.Series(ret)\n",
    "drift = 100\n",
    "price = pd.Series(np.cumsum(ret)) + drift"
   ]
  },
  {
   "cell_type": "markdown",
   "metadata": {},
   "source": [
    "### log returns"
   ]
  },
  {
   "cell_type": "code",
   "execution_count": null,
   "metadata": {},
   "outputs": [],
   "source": [
    "lret = np.log(price) - np.log(price.shift(1))\n",
    "lret = lret[1:]"
   ]
  },
  {
   "cell_type": "markdown",
   "metadata": {},
   "source": [
    "## Quiz Solution: ARIMA\n",
    "\n",
    "Fit an autoregressive integrated moving average model.  Choose an order of integration of 1, autoregresion lag of 1, and moving average lag of 1.\n",
    "\n",
    "Check out the [stats model arima](http://www.statsmodels.org/0.6.1/generated/statsmodels.tsa.arima_model.ARMAResults.html) documentation to help you."
   ]
  },
  {
   "cell_type": "code",
   "execution_count": null,
   "metadata": {},
   "outputs": [],
   "source": [
    "from statsmodels.tsa.arima_model import ARIMA"
   ]
  },
  {
   "cell_type": "code",
   "execution_count": null,
   "metadata": {},
   "outputs": [],
   "source": [
    "def fit_arima(lret):\n",
    "    \n",
    "    #TODO: choose autoregression lag of 1\n",
    "    AR_lag_p = 1\n",
    "    \n",
    "    #TODO: choose moving average lag of 1\n",
    "    MA_lag_q = 1\n",
    "    \n",
    "    #TODO: choose order of integration 1\n",
    "    order_of_integration_d = 1\n",
    "    \n",
    "    #TODO: Create a tuple of p,d,q\n",
    "    order = (AR_lag_p, order_of_integration_d, MA_lag_q)\n",
    "    \n",
    "    #TODO: create an ARIMA model object, passing in the values of the lret pandas series,\n",
    "    # and the tuple containing the (p,d,q) order arguments\n",
    "    arima_model = ARIMA(lret.values, order=order)\n",
    "    arima_result = arima_model.fit()\n",
    "    \n",
    "    #TODO: from the result of calling ARIMA.fit(),\n",
    "    # save and return the fitted values, autoregression parameters, and moving average parameters\n",
    "    fittedvalues = arima_result.fittedvalues\n",
    "    arparams = arima_result.arparams\n",
    "    maparams = arima_result.maparams\n",
    "   \n",
    "    return fittedvalues,arparams,maparams\n",
    "\n",
    "quiz_tests.test_fit_arima(fit_arima)"
   ]
  },
  {
   "cell_type": "code",
   "execution_count": null,
   "metadata": {},
   "outputs": [],
   "source": [
    "fittedvalues,arparams,maparams = fit_arima(lret)\n",
    "arima_pred = pd.Series(fittedvalues)\n",
    "plt.plot(lret, color=sns.xkcd_rgb[\"pale purple\"])\n",
    "plt.plot(arima_pred, color=sns.xkcd_rgb[\"jade green\"])\n",
    "plt.title('Log Returns and predictions using an ARIMA(p=1,d=1,q=1) model');\n",
    "print(f\"fitted AR parameter {arparams[0]:.2f}, MA parameter {maparams[0]:.2f}\")"
   ]
  }
 ],
 "metadata": {
  "kernelspec": {
   "display_name": "Python 3",
   "language": "python",
   "name": "python3"
  },
  "language_info": {
   "codemirror_mode": {
    "name": "ipython",
    "version": 3
   },
   "file_extension": ".py",
   "mimetype": "text/x-python",
   "name": "python",
   "nbconvert_exporter": "python",
   "pygments_lexer": "ipython3",
   "version": "3.6.3"
  }
 },
 "nbformat": 4,
 "nbformat_minor": 2
}
